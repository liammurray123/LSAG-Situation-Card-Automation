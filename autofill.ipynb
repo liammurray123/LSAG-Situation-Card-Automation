{
 "cells": [
  {
   "cell_type": "code",
   "execution_count": null,
   "id": "a5f8e695",
   "metadata": {},
   "outputs": [
    {
     "name": "stdout",
     "output_type": "stream",
     "text": [
      "{'env_1': '', 'water_1': '', 'pos_1': '', 'vic_1': '', 'vic_2': '', 'change_1': '', 'change_2': '', 'behav_1': '', 'behav_2': '', 'env_2': '', 'water_2': '', 'pos_2': '', 'aid_1': '', 'aid_2': ''}\n",
      "                                 Rescuer 1 Environment      Rescuer 1 Water Conditions                      Rescuer 1 Position                         Rescuer 1 Rescue Aids                                              Rescuer 2 Environment      Rescuer 2 Water Conditions                      Rescuer 2 Position                                      Rescuer 2 Rescue Aids                                     Victim Type                  Behaviour/Precipitating Incident                             Change in Victim Condition  Victim Type  Behaviour/Precipitating Incident  Change in Victim Condition  Unnamed: 14  Unnamed: 15\n",
      "0  Rescuer 1 starts from a dock on a clear, deep lake.    The water is clear and deep.    Rescuer 1 is positioned on the dock.    Rescuer 1 has a ring buoy and a throw bag.    Rescuer 2 also starts from a dock on the same clear, deep lake.    The water is clear and deep.    Rescuer 2 is positioned on the dock.    Rescuer 2 is equipped with a ring buoy and a throw bag.    The victim is unconscious and not breathing.    The victim fell from the dock into deep water.    The victim regains consciousness during the ascent.          NaN                               NaN                         NaN          NaN          NaN\n"
     ]
    }
   ],
   "source": [
    "from fillpdf import fillpdfs\n",
    "import pandas as pd\n",
    "import numpy as np\n",
    "\n",
    "templatePath = \"\" #\"Rescue Card Template PDF (Fillable).pdf\"\n",
    "\n",
    "fields = fillpdfs.get_form_fields(templatePath)\n",
    "\n",
    "print(fields)\n",
    "\n",
    "sitsPath = \"Transcribed Situations/Bronze Cross/Rescue 2.csv\"\n",
    "\n",
    "df = pd.read_csv(sitsPath)\n",
    "\n",
    "print(df.to_string()) \n",
    "\n",
    "for n in np.arange(0,len(df)):\n",
    "    data_dict = {\n",
    "    # Left Rescuer Card\n",
    "    'env_1': df.iat[n, 0], \n",
    "    'water_1': df.iat[n, 1], \n",
    "    'pos_1': df.iat[n, 2], \n",
    "    'aid_1': df.iat[n, 3],\n",
    "\n",
    "    # Left Victim Card\n",
    "    'vic_1': df.iat[n, 4], \n",
    "    'behav_1': df.iat[n, 5], \n",
    "    'change_1': df.iat[n, 6], \n",
    "\n",
    "    # Right Rescuer Card\n",
    "    'env_2': df.iat[n, 7], \n",
    "    'water_2': df.iat[n, 8], \n",
    "    'pos_2': df.iat[n, 9],\n",
    "    'aid_2': df.iat[n, 10], \n",
    "    \n",
    "    # Right Victim Card\n",
    "    'vic_2': df.iat[n, 11], \n",
    "    'behav_2': df.iat[n, 12], \n",
    "    'change_2': df.iat[n, 13], \n",
    "    \n",
    "    \n",
    "    }\n",
    "    newFileName = f\"Completed Files/Bronze Cross/Rescue 2 - Scenario #{n+1}.pdf\"\n",
    "    fillpdfs.write_fillable_pdf(templatePath, newFileName, data_dict)\n",
    "\n",
    "\n",
    "# returns a dictionary of fields\n",
    "# Set the returned dictionary values a save to a variable\n",
    "# For radio boxes ('Off' = not filled, 'Yes' = filled)\n",
    "\n",
    "# data_dict = {\n",
    "# 'Text2': 'Name',\n",
    "# 'Text4': 'LastName',\n",
    "# 'box': 'Yes',\n",
    "# }\n",
    "\n",
    "# fillpdfs.write_fillable_pdf(templatePath, 'new.pdf', data_dict)\n",
    "\n",
    "# # If you want it flattened:\n",
    "# fillpdfs.flatten_pdf('new.pdf', 'newflat.pdf')"
   ]
  },
  {
   "cell_type": "code",
   "execution_count": null,
   "id": "17c5a191",
   "metadata": {},
   "outputs": [],
   "source": []
  }
 ],
 "metadata": {
  "kernelspec": {
   "display_name": "base",
   "language": "python",
   "name": "python3"
  },
  "language_info": {
   "codemirror_mode": {
    "name": "ipython",
    "version": 3
   },
   "file_extension": ".py",
   "mimetype": "text/x-python",
   "name": "python",
   "nbconvert_exporter": "python",
   "pygments_lexer": "ipython3",
   "version": "3.12.2"
  }
 },
 "nbformat": 4,
 "nbformat_minor": 5
}
