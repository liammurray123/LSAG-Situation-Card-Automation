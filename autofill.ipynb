{
 "cells": [
  {
   "cell_type": "markdown",
   "id": "f6f57f1e",
   "metadata": {},
   "source": [
    "## LSAG Rescue Card Automation 🌊\n",
    "The code cell below takes `.csv` data and auto-populates a fillable `.pdf` file using the Lifesaving Society templates available to Lifesaving Instructors."
   ]
  },
  {
   "cell_type": "code",
   "execution_count": 16,
   "id": "a5f8e695",
   "metadata": {},
   "outputs": [
    {
     "name": "stdout",
     "output_type": "stream",
     "text": [
      "Success 🎉 \n",
      "See attached folders to locate generated files.\n",
      "Success 🎉 \n",
      "See attached folders to locate generated files.\n",
      "Success 🎉 \n",
      "See attached folders to locate generated files.\n",
      "Success 🎉 \n",
      "See attached folders to locate generated files.\n"
     ]
    }
   ],
   "source": [
    "# Import required libraries for data processing and PDF services.\n",
    "from fillpdf import fillpdfs\n",
    "import pandas as pd\n",
    "import numpy as np\n",
    "\n",
    "templatePath = \"Rescue Card Template PDF (Fillable).pdf\"\n",
    "\n",
    "fields = fillpdfs.get_form_fields(templatePath)\n",
    "\n",
    "# print(fields)\n",
    "\n",
    "sitsPath = \"Transcribed Situations/Bronze Medallion/Rescue 1.csv\"\n",
    "\n",
    "df = pd.read_csv(sitsPath)\n",
    "\n",
    "# print(df.to_string()) \n",
    "\n",
    "for n in np.arange(0,len(df)):\n",
    "    data_dict = {\n",
    "    # Left Rescuer Card\n",
    "    'env_1': df.iat[n, 0], \n",
    "    'water_1': df.iat[n, 1], \n",
    "    'pos_1': df.iat[n, 2], \n",
    "    'aid_1': df.iat[n, 3],\n",
    "\n",
    "    # Left Victim Card\n",
    "    'vic_1': df.iat[n, 4], \n",
    "    'behav_1': df.iat[n, 5], \n",
    "    'change_1': df.iat[n, 6], \n",
    "\n",
    "    # Right Rescuer Card\n",
    "    'env_2': df.iat[n, 7], \n",
    "    'water_2': df.iat[n, 8], \n",
    "    'pos_2': df.iat[n, 9],\n",
    "    'aid_2': df.iat[n, 10], \n",
    "    \n",
    "    # Right Victim Card\n",
    "    'vic_2': df.iat[n, 11], \n",
    "    'behav_2': df.iat[n, 12], \n",
    "    'change_2': df.iat[n, 13], \n",
    "    \n",
    "    \n",
    "    }\n",
    "    newFileName = f\"Completed Files/Bronze Medallion/Rescue 1 - Scenario #{n+1}.pdf\"\n",
    "    fillpdfs.write_fillable_pdf(templatePath, newFileName, data_dict)\n",
    "\n",
    "    print(\"Success 🎉 \\nSee attached folders to locate generated files.\")\n",
    "\n",
    "# returns a dictionary of fields\n",
    "# Set the returned dictionary values a save to a variable\n",
    "# For radio boxes ('Off' = not filled, 'Yes' = filled)\n",
    "\n",
    "# data_dict = {\n",
    "# 'Text2': 'Name',\n",
    "# 'Text4': 'LastName',\n",
    "# 'box': 'Yes',\n",
    "# }\n",
    "\n",
    "# fillpdfs.write_fillable_pdf(templatePath, 'new.pdf', data_dict)\n",
    "\n",
    "# # If you want it flattened:\n",
    "# fillpdfs.flatten_pdf('new.pdf', 'newflat.pdf')"
   ]
  },
  {
   "cell_type": "code",
   "execution_count": null,
   "id": "f72a0287",
   "metadata": {},
   "outputs": [],
   "source": []
  }
 ],
 "metadata": {
  "kernelspec": {
   "display_name": "base",
   "language": "python",
   "name": "python3"
  },
  "language_info": {
   "codemirror_mode": {
    "name": "ipython",
    "version": 3
   },
   "file_extension": ".py",
   "mimetype": "text/x-python",
   "name": "python",
   "nbconvert_exporter": "python",
   "pygments_lexer": "ipython3",
   "version": "3.12.2"
  }
 },
 "nbformat": 4,
 "nbformat_minor": 5
}
